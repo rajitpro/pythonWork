{
 "cells": [
  {
   "cell_type": "markdown",
   "id": "762d9d7f-70a5-4f24-837f-1db82e05a084",
   "metadata": {},
   "source": [
    "## (04NPY) Lab Assignment Instructions Template - Working with NumPy ##"
   ]
  },
  {
   "cell_type": "raw",
   "id": "a86bc0b8-a9d3-419e-a807-03338e1d63b1",
   "metadata": {
    "vscode": {
     "languageId": "raw"
    }
   },
   "source": [
    "LAB INSTRUCTIONS:\n",
    "1. Rename this file as NPYLastFirst.ipynb, where Last is your last name and First is your first name (For example: if your name is Nancy Drew, you will name the file NPYDrewNancy.ipynb)\n",
    "2. To complete this assignment, you goto each question and answer it in the code cell after it. You can add more code cell as necessary. \n",
    "3. After answering each question make sure to run the code cell so there is no error and your output matches with the screenshot of the output provided below the question.\n",
    "4. After completing all the questions, submit your .ipynb file and a screenshot of your repository showing that you have pushed the .inpynb file to your repository."
   ]
  },
  {
   "cell_type": "markdown",
   "id": "b6374042",
   "metadata": {},
   "source": [
    "**Q01. Import NumPy package as np**\n",
    "*(HINT: make sure to run the code cell after importing np)*"
   ]
  },
  {
   "cell_type": "code",
   "execution_count": null,
   "id": "431eee4a-668f-4745-912b-4e2a26ea7bb8",
   "metadata": {},
   "outputs": [],
   "source": [
    "import numpy as np"
   ]
  },
  {
   "attachments": {
    "image.png": {
     "image/png": "[encoded data removed]"
    }
   },
   "cell_type": "markdown",
   "id": "a54b99fe",
   "metadata": {},
   "source": [
    "**Q02. Do the following in the same code cell:**\n",
    "\n",
    "**A. Create a random number generator named rng with seed=12345**\n",
    "*(HINT: use np.random modules' default_rng method)*\n",
    "\n",
    "**B. Create a 3x4 two-dimensional array named M with 10 random integers between 0-10**\n",
    "*(HINT: use rng's integers method with size argument set appropriately)*\n",
    "\n",
    "**C. Display array M**\n",
    "*(HINT: print statements)*\n",
    "\n",
    "***Output Screenshot to verify:***\n",
    "\n",
    "![image.png](attachment:image.png)"
   ]
  },
  {
   "cell_type": "code",
   "execution_count": 69,
   "id": "0b097185",
   "metadata": {},
   "outputs": [
    {
     "name": "stdout",
     "output_type": "stream",
     "text": [
      "Array M: \n",
      " [[ 7  2  8  3]\n",
      " [ 2  8  7  7]\n",
      " [10  4  9  3]]\n"
     ]
    }
   ],
   "source": [
    "# A. Create a random number generator\n",
    "import numpy as np\n",
    "randomNumbers = np.random.default_rng(seed = 12345)\n",
    "#B Create a 3x4 two-dimensional array named M with 10 random integers between 0-10 (HINT: use rng's integers method with size argument set appropriately)\n",
    "\n",
    "M = randomNumbers.integers(0,11, size=(3,4))\n",
    "\n",
    "#C Display array M\n",
    "print(\"Array M: \\n\",M)"
   ]
  },
  {
   "attachments": {
    "image.png": {
     "image/png": "[encoded data removed]"
    }
   },
   "cell_type": "markdown",
   "id": "414f370c",
   "metadata": {},
   "source": [
    "**Q03. Display the total and average of array M elements**\n",
    "*(HINT: use sum and mean functions)*\n",
    "\n",
    "***Output:***\n",
    "\n",
    "![image.png](attachment:image.png)"
   ]
  },
  {
   "cell_type": "code",
   "execution_count": 3,
   "id": "c93277a6-1ea2-42df-848b-371c7cd42b7a",
   "metadata": {},
   "outputs": [
    {
     "name": "stdout",
     "output_type": "stream",
     "text": [
      "Total is:  70\n",
      "Average is:  5.833333333333333\n"
     ]
    }
   ],
   "source": [
    "total = M.sum()\n",
    "average = M.mean()\n",
    "print(\"Array M Total: \", total)\n",
    "print(\"Array M Avg: \", average)"
   ]
  },
  {
   "attachments": {
    "image.png": {
     "image/png": "[encoded data removed]"
    }
   },
   "cell_type": "markdown",
   "id": "543c34c3",
   "metadata": {},
   "source": [
    "**Q04. Display the smallest and largest element within each column of array M**\n",
    "*(HINT: use min and max functions with axis argument set appropriately)*\n",
    "\n",
    "***Output:***\n",
    "\n",
    "![image.png](attachment:image.png)"
   ]
  },
  {
   "cell_type": "code",
   "execution_count": 5,
   "id": "fc524f23",
   "metadata": {},
   "outputs": [
    {
     "name": "stdout",
     "output_type": "stream",
     "text": [
      "Minimum Elements are:  [2 2 7 3]\n",
      "Maximum Elements are:  [10  8  9  7]\n"
     ]
    }
   ],
   "source": [
    "minElement = M.min(axis = 0)\n",
    "maxElement = M.max(axis = 0)\n",
    "print(\"Smallest element in each column of array M: \", minElement)\n",
    "print(\"Largest element in each column of array M: \", maxElement)"
   ]
  },
  {
   "attachments": {
    "image-2.png": {
     "image/png": "[encoded data removed]"
    }
   },
   "cell_type": "markdown",
   "id": "52f9a03e-3bb1-41d9-a263-b6faf3cae104",
   "metadata": {},
   "source": [
    "**Q05. Display how many elements are greater than 5 and less than or equal to 9 in each row of array M**\n",
    "*(HINT: use np.count_nonzero or np.sum function with relational operators and axis argument set appropriately)*\n",
    "\n",
    "***Output:***\n",
    "\n",
    "![image-2.png](attachment:image-2.png)"
   ]
  },
  {
   "cell_type": "code",
   "execution_count": 7,
   "id": "852c7c6d-5592-4971-99b1-38fa013c0c37",
   "metadata": {},
   "outputs": [
    {
     "name": "stdout",
     "output_type": "stream",
     "text": [
      "Count of elements between 5-10 in each row of array M:  [2 3 1]\n"
     ]
    }
   ],
   "source": [
    "N = (M > 5) & (M <= 9)\n",
    "elementCount = np.sum(N, axis =1)\n",
    "print(\"Count of elements between 5-10 in each row of array M: \",elementCount)"
   ]
  },
  {
   "attachments": {
    "image-2.png": {
     "image/png": "[encoded data removed]"
    }
   },
   "cell_type": "markdown",
   "id": "cca989ae-a4f6-4afe-8b64-48a402ccdce0",
   "metadata": {},
   "source": [
    "**Q06. Display the first, last, and second to last element of array M**\n",
    "*(HINT: use fancy indexing)*\n",
    "\n",
    "***Output:***\n",
    "\n",
    "![image-2.png](attachment:image-2.png)"
   ]
  },
  {
   "cell_type": "code",
   "execution_count": 29,
   "id": "b4f00b0c-36a5-4d7d-b202-32ad52a4cea0",
   "metadata": {},
   "outputs": [
    {
     "name": "stdout",
     "output_type": "stream",
     "text": [
      "First, last, and second-to-last element of array M:  8 9 4\n"
     ]
    }
   ],
   "source": [
    "arry = M.flatten()\n",
    "asc_arry = arry[np.argsort(arry)]\n",
    "\n",
    "#Fancy Indexing:\n",
    "first = arry[asc_arry[0]]\n",
    "last = arry[asc_arry[-1]]\n",
    "secondLast = arry[asc_arry[-2]]\n",
    "print(\"First, last, and second-to-last element of array M: \",first, last, secondLast)"
   ]
  },
  {
   "attachments": {
    "image.png": {
     "image/png": "[encoded data removed]"
    }
   },
   "cell_type": "markdown",
   "id": "cd621662-625b-4812-94b9-2544941fcba4",
   "metadata": {},
   "source": [
    "**Q07. Display array M reversed**\n",
    "*(HINT: use array slicing)*\n",
    "\n",
    "***Output:***\n",
    "\n",
    "![image.png](attachment:image.png)"
   ]
  },
  {
   "cell_type": "code",
   "execution_count": 39,
   "id": "dec1235b",
   "metadata": {},
   "outputs": [
    {
     "name": "stdout",
     "output_type": "stream",
     "text": [
      "Array M elements reversed: \n",
      " [[10  4  9  3]\n",
      " [ 2  8  7  7]\n",
      " [ 7  2  8  3]]\n"
     ]
    }
   ],
   "source": [
    "reversedM = M[::-1]\n",
    "print(\"Array M elements reversed: \\n\",reversedM)"
   ]
  },
  {
   "attachments": {
    "image.png": {
     "image/png": "[encoded data removed]"
    }
   },
   "cell_type": "markdown",
   "id": "35f2c30b-649b-4ae7-bf99-a78485387599",
   "metadata": {},
   "source": [
    "**Q08. Display array M partitioned, where the first slot in each row contains the smallest element from that row**\n",
    "*(HINT: use np.partition function with axis argument set appropriately)*\n",
    "\n",
    "***Output:***\n",
    "\n",
    "![image.png](attachment:image.png)"
   ]
  },
  {
   "cell_type": "code",
   "execution_count": 37,
   "id": "b2f328ae-f844-4bcb-9c24-d205702f468c",
   "metadata": {},
   "outputs": [
    {
     "name": "stdout",
     "output_type": "stream",
     "text": [
      "Array M partitioned with the first element in each row being the smallest: \n",
      " [[ 2  7  8  3]\n",
      " [ 2  8  7  7]\n",
      " [ 3  4  9 10]]\n"
     ]
    }
   ],
   "source": [
    "partitionedM = np.partition(M, 0, axis =1)  #0: brings the smallest element forward\n",
    "print(\"Array M partitioned with the first element in each row being the smallest: \\n\",partitionedM)"
   ]
  },
  {
   "attachments": {
    "image-2.png": {
     "image/png": "[encoded data removed]"
    }
   },
   "cell_type": "markdown",
   "id": "b49351de-1637-4299-9262-e91e67a2e93b",
   "metadata": {},
   "source": [
    "**Q09. Sort array M by each column in place and display**\n",
    "*(HINT: use sort function with axis argument set appropriately)*\n",
    "\n",
    "***Output:***\n",
    "\n",
    "![image-2.png](attachment:image-2.png)"
   ]
  },
  {
   "cell_type": "code",
   "execution_count": 47,
   "id": "1d3b6195-0c73-433e-826c-9ac9181ef67b",
   "metadata": {},
   "outputs": [
    {
     "name": "stdout",
     "output_type": "stream",
     "text": [
      "Array sorted from the top to bottom, by each column: \n",
      " [[ 2  2  7  3]\n",
      " [ 7  4  8  3]\n",
      " [10  8  9  7]]\n"
     ]
    }
   ],
   "source": [
    "M.sort(axis=0)\n",
    "print(\"Array sorted from the top to bottom, by each column: \\n\",M)"
   ]
  },
  {
   "attachments": {
    "image-2.png": {
     "image/png": "[encoded data removed]"
    }
   },
   "cell_type": "markdown",
   "id": "5a8da086",
   "metadata": {},
   "source": [
    "**Q10. Create and display a 3x4 two-dimensional integer array named Z filled with 0's**\n",
    "*(HINT: use np.zeros function with dtype argument and reshape function)*\n",
    "\n",
    "***Output:***\n",
    "\n",
    "![image-2.png](attachment:image-2.png)"
   ]
  },
  {
   "cell_type": "code",
   "execution_count": 75,
   "id": "f08c11f4",
   "metadata": {},
   "outputs": [
    {
     "name": "stdout",
     "output_type": "stream",
     "text": [
      "Array Z: \n",
      " [[0 0 0 0]\n",
      " [0 0 0 0]\n",
      " [0 0 0 0]]\n"
     ]
    }
   ],
   "source": [
    "Z = np.zeros(12,int)\n",
    "Z = Z.reshape(3,4)\n",
    "print(\"Array Z: \\n\", Z)"
   ]
  },
  {
   "attachments": {
    "image.png": {
     "image/png": "[encoded data removed]"
    }
   },
   "cell_type": "markdown",
   "id": "25b35385",
   "metadata": {},
   "source": [
    "**Q11. Compute the squares of array M elements and store the results of computation into array Z and display array Z**\n",
    "*(HINT: use np.power method with out argument set appropriately)*\n",
    "\n",
    "***Output:***\n",
    "\n",
    "![image.png](attachment:image.png)"
   ]
  },
  {
   "cell_type": "code",
   "execution_count": 79,
   "id": "0a350f25",
   "metadata": {},
   "outputs": [
    {
     "name": "stdout",
     "output_type": "stream",
     "text": [
      "Array Z after squaring array M elements: \n",
      " [[ 49   4  64   9]\n",
      " [  4  64  49  49]\n",
      " [100  16  81   9]]\n"
     ]
    }
   ],
   "source": [
    "np.power(M,2,out=Z)\n",
    "print(\"Array Z after squaring array M elements: \\n\",Z)"
   ]
  },
  {
   "attachments": {
    "image-2.png": {
     "image/png": "[encoded data removed]"
    }
   },
   "cell_type": "markdown",
   "id": "b0c0e00d",
   "metadata": {},
   "source": [
    "**Q12. Create a 3x4 two-dimensional integer array named B filled with numbers 0-12**\n",
    "*(HINT: use np.arange function with dtype argument and reshape function)*\n",
    "\n",
    "***Output:***\n",
    "\n",
    "![image-2.png](attachment:image-2.png)"
   ]
  },
  {
   "cell_type": "code",
   "execution_count": 83,
   "id": "7ee7d653",
   "metadata": {},
   "outputs": [
    {
     "name": "stdout",
     "output_type": "stream",
     "text": [
      "Array B: \n",
      " [[ 0  1  2  3]\n",
      " [ 4  5  6  7]\n",
      " [ 8  9 10 11]]\n"
     ]
    }
   ],
   "source": [
    "B = np.arange(12, dtype=int)\n",
    "B = B.reshape(3,4)\n",
    "print(\"Array B: \\n\",B)"
   ]
  },
  {
   "attachments": {
    "image.png": {
     "image/png": "[encoded data removed]"
    }
   },
   "cell_type": "markdown",
   "id": "bf7e3a1e-ad86-4304-9b2a-5b2c562ba6c2",
   "metadata": {},
   "source": [
    "**Q13. Fill array B with 1's as a border and 0's inside and display the array**\n",
    "*(HINTS: use np.ones with dtype argument set appropriately and slicing)*\n",
    "\n",
    "***Output:***\n",
    "\n",
    "![image.png](attachment:image.png)\n"
   ]
  },
  {
   "cell_type": "code",
   "execution_count": 117,
   "id": "d00871e4",
   "metadata": {},
   "outputs": [
    {
     "name": "stdout",
     "output_type": "stream",
     "text": [
      "Array B with 1's outside and 0's inside: \n",
      " [[1 1 1 1]\n",
      " [1 0 0 1]\n",
      " [1 1 1 1]]\n"
     ]
    }
   ],
   "source": [
    "B = np.ones((3,4), dtype=int)\n",
    "B[1,1:-1] = 0  #1: second row; 1:-1 means second element till second-last element\n",
    "print(\"Array B with 1's outside and 0's inside: \\n\",B)"
   ]
  },
  {
   "attachments": {
    "image.png": {
     "image/png": "[encoded data removed]"
    }
   },
   "cell_type": "markdown",
   "id": "50d7ce10",
   "metadata": {},
   "source": [
    "**Q14. Display how many 0's and 1's exists in array B**\n",
    "*(HINT: Use np.sum and relational operator ==)*\n",
    "\n",
    "***Output:***\n",
    "\n",
    "![image.png](attachment:image.png)"
   ]
  },
  {
   "cell_type": "code",
   "execution_count": 121,
   "id": "47d24b3e",
   "metadata": {},
   "outputs": [
    {
     "name": "stdout",
     "output_type": "stream",
     "text": [
      "Count of 1's in array B:  10\n",
      "Count of 0's in arrray B:  2\n"
     ]
    }
   ],
   "source": [
    "zeroSum = np.sum(B==0)\n",
    "onesSum = np.sum(B==1)\n",
    "print(\"Count of 1's in array B: \",onesSum)\n",
    "print(\"Count of 0's in arrray B: \",zeroSum)"
   ]
  },
  {
   "attachments": {
    "image-2.png": {
     "image/png": "[encoded data removed]"
    }
   },
   "cell_type": "markdown",
   "id": "0e3898a1",
   "metadata": {},
   "source": [
    "**Q15. Create and display an empty container for structured array named SA with the following names and formats**\n",
    "*(HINT: use np.zeros and np.dtype methods)*\n",
    "\n",
    "    names: player, age, height\n",
    "    formats: string, int, float\n",
    "\n",
    "***Output:***\n",
    "\n",
    "![image-2.png](attachment:image-2.png)\n"
   ]
  },
  {
   "cell_type": "code",
   "execution_count": 147,
   "id": "92e24835",
   "metadata": {},
   "outputs": [
    {
     "name": "stdout",
     "output_type": "stream",
     "text": [
      "Structure array SA: \n",
      " [('', 0, 0.) ('', 0, 0.) ('', 0, 0.)]\n"
     ]
    }
   ],
   "source": [
    "# Define the data type for the structured array:\n",
    "\n",
    "dtype1 = np.dtype({'names':['player', 'age', 'height'],\n",
    "                  'formats': ['U10', 'i2', 'f2']\n",
    "                 })\n",
    "structureArray = np.zeros(3, dtype = dtype1)\n",
    "print(\"Structure array SA: \\n\", structureArray)"
   ]
  },
  {
   "attachments": {
    "image-2.png": {
     "image/png": "[encoded data removed]"
    }
   },
   "cell_type": "markdown",
   "id": "e2761a9a",
   "metadata": {},
   "source": [
    "**Q16. Fill the data below into array SA and display the array**\n",
    "*(HINT: use lists and structured array indexing by names)*\n",
    "\n",
    "    players = Matt, Mike, Mary, Mia\n",
    "    age = 33, 22, 18, 19\n",
    "    height = 6, 6.2, 5.8, 5.2\n",
    "\n",
    "***Output:***\n",
    "\n",
    "![image-2.png](attachment:image-2.png)"
   ]
  },
  {
   "cell_type": "code",
   "execution_count": 155,
   "id": "684de29b",
   "metadata": {},
   "outputs": [
    {
     "name": "stdout",
     "output_type": "stream",
     "text": [
      "Structure array SA filled with data: \n",
      " [('Matt', 33, 6. ) ('Mike', 21, 6.2) ('Mary', 18, 5.8) ('Mia', 19, 5.2)]\n"
     ]
    }
   ],
   "source": [
    "# Define the data type for the structured array\n",
    "dtype = [('name', 'U10'), ('age', 'i4'), ('height', 'f4')]\n",
    "dtype1 = np.dtype({\n",
    "    'names':['name','age','height'],\n",
    "    'formats':['U10','i4','f4']\n",
    "})\n",
    "dtype2 = np.dtype('U10, i4, f4')\n",
    "\n",
    "# Create the structured array with sample data\n",
    "data = np.array([\n",
    "    ('Matt', 33, 6),\n",
    "    ('Mike', 21, 6.2),\n",
    "    ('Mary', 18, 5.8),\n",
    "    ('Mia', 19, 5.2)\n",
    "], dtype=dtype1)\n",
    "\n",
    "# Print the structured array\n",
    "print(\"Structure array SA filled with data: \\n\", data)"
   ]
  },
  {
   "attachments": {
    "image.png": {
     "image/png": "[encoded data removed]"
    }
   },
   "cell_type": "markdown",
   "id": "095bb58a",
   "metadata": {},
   "source": [
    "**Q17. Find and display player(s) 6ft and above from structured array SA**\n",
    "*(HINT: use structured array indexing and relational operator)*\n",
    "\n",
    "***Output:***\n",
    "\n",
    "![image.png](attachment:image.png)"
   ]
  },
  {
   "cell_type": "code",
   "execution_count": 163,
   "id": "1cfbbbb0",
   "metadata": {},
   "outputs": [
    {
     "name": "stdout",
     "output_type": "stream",
     "text": [
      "Players 6 ft and above in structured array SA:  [('Matt', 33, 6. ) ('Mike', 21, 6.2)]\n"
     ]
    }
   ],
   "source": [
    "cond = data['height'] >= 6\n",
    "heightSixPlus = data[cond]\n",
    "print(\"Players 6 ft and above in structured array SA: \",heightSixPlus)"
   ]
  },
  {
   "attachments": {
    "image.png": {
     "image/png": "[encoded data removed]"
    }
   },
   "cell_type": "markdown",
   "id": "7f1f368e",
   "metadata": {},
   "source": [
    "**Q18. View and display the above data as a record array named RA**\n",
    "*(HINT: Use structured array SA.view method with np.recarray argument)*\n",
    "\n",
    "***Output:***\n",
    "\n",
    "![image.png](attachment:image.png)"
   ]
  },
  {
   "cell_type": "code",
   "execution_count": 177,
   "id": "70992383",
   "metadata": {},
   "outputs": [
    {
     "name": "stdout",
     "output_type": "stream",
     "text": [
      "Record array RA: \n",
      " [('Matt', 33, 6. ) ('Mike', 21, 6.2) ('Mary', 18, 5.8) ('Mia', 19, 5.2)]\n"
     ]
    }
   ],
   "source": [
    "recArray = data.view(np.recarray)\n",
    "print(\"Record array RA: \\n\",recArray)"
   ]
  },
  {
   "attachments": {
    "image.png": {
     "image/png": "[encoded data removed]"
    }
   },
   "cell_type": "markdown",
   "id": "af8da9ef",
   "metadata": {},
   "source": [
    "**Q19. Display age of all players from record array RA**\n",
    "*(HINT: print the age from RA)*\n",
    "\n",
    "***Output:***\n",
    "\n",
    "![image.png](attachment:image.png)"
   ]
  },
  {
   "cell_type": "code",
   "execution_count": 191,
   "id": "feb1e145",
   "metadata": {},
   "outputs": [
    {
     "name": "stdout",
     "output_type": "stream",
     "text": [
      "Ages of all players in record array RA:  [33 21 18 19]\n"
     ]
    }
   ],
   "source": [
    "recArray.age\n",
    "recArray['age']\n",
    "print(\"Ages of all players in record array RA: \",recArray['age'])"
   ]
  },
  {
   "attachments": {
    "image.png": {
     "image/png": "[encoded data removed]"
    }
   },
   "cell_type": "markdown",
   "id": "91cdb566",
   "metadata": {},
   "source": [
    "**Q20. Find and display how many players are under 21 in record array RA**\n",
    "*(HINT: use np.sum function making sure age field from RA is less than 21)*\n",
    "\n",
    "***Output:***\n",
    "\n",
    "![image.png](attachment:image.png)\n",
    "\n",
    "\n"
   ]
  },
  {
   "cell_type": "code",
   "execution_count": 197,
   "id": "13c8456e",
   "metadata": {},
   "outputs": [
    {
     "name": "stdout",
     "output_type": "stream",
     "text": [
      "Number of players below 21 years in record array RA:  2\n"
     ]
    }
   ],
   "source": [
    "number = np.sum(recArray.age < 21)\n",
    "print(\"Number of players below 21 years in record array RA: \",number)"
   ]
  }
 ],
 "metadata": {
  "kernelspec": {
   "display_name": "Python [conda env:base] *",
   "language": "python",
   "name": "conda-base-py"
  },
  "language_info": {
   "codemirror_mode": {
    "name": "ipython",
    "version": 3
   },
   "file_extension": ".py",
   "mimetype": "text/x-python",
   "name": "python",
   "nbconvert_exporter": "python",
   "pygments_lexer": "ipython3",
   "version": "3.12.7"
  }
 },
 "nbformat": 4,
 "nbformat_minor": 5
}
